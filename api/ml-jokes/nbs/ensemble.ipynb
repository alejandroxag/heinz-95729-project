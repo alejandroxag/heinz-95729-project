{
 "cells": [
  {
   "cell_type": "markdown",
   "metadata": {},
   "source": [
    "Authors:\n",
    "    <br>Alejandro Alvarez (axa)\n",
    "    <br>Brenda Palma (bpalmagu)\n",
    "\n",
    "# <center>ML-Jokes: Model ensemble</center>"
   ]
  },
  {
   "cell_type": "code",
   "execution_count": 1,
   "metadata": {},
   "outputs": [
    {
     "name": "stdout",
     "output_type": "stream",
     "text": [
      "Current directory: /home/alejandroxag/my_files/heinz-95729-project/api/ml-jokes\n"
     ]
    }
   ],
   "source": [
    "# Path to ml-jokes folder\n",
    "import os\n",
    "if os.getcwd().split('/')[-2] == 'ml-jokes': os.chdir('..')\n",
    "print(f'Current directory: {os.getcwd()}')\n",
    "assert set(['data', 'mljokes', 'environment.yml', 'nbs']) <= set(os.listdir()), \\\n",
    "    'Wrong path; go to ./heinz-95729-project/api/ml-jokes'"
   ]
  },
  {
   "cell_type": "code",
   "execution_count": 45,
   "metadata": {},
   "outputs": [],
   "source": [
    "import optuna\n",
    "import pickle\n",
    "import numpy as np\n",
    "import pandas as pd\n",
    "from sklearn.linear_model import Ridge\n",
    "from sklearn.metrics import mean_absolute_error\n",
    "from sklearn.model_selection import cross_val_score"
   ]
  },
  {
   "cell_type": "code",
   "execution_count": 4,
   "metadata": {},
   "outputs": [],
   "source": [
    "with open('./results/model_inputs_nov28.pkl', 'rb') as f: model_inputs = pickle.load(f)\n",
    "with open('./results/predictions_nov28.pkl', 'rb') as f: predictions = pickle.load(f)\n",
    "predictions.rename(columns={'joke:id': 'joke_id'}, inplace=True)"
   ]
  },
  {
   "cell_type": "code",
   "execution_count": 11,
   "metadata": {},
   "outputs": [],
   "source": [
    "predictions.rename(columns={'rating_pred': 'cb_rating'}, inplace=True)\n",
    "# COLLABORATIVE FILTERING PREDICTIONS\n",
    "predictions.insert(3, 'cf_rating', predictions.cb_rating + np.random.rand(len(predictions.cb_rating)))"
   ]
  },
  {
   "cell_type": "code",
   "execution_count": 78,
   "metadata": {},
   "outputs": [],
   "source": [
    "full_df = pd.concat([model_inputs['user_joke_info'].loc[:, ['user_id', 'joke_id', 'rating']],\n",
    "                     predictions.loc[:, ['cb_rating', 'cf_rating']]],\n",
    "                     axis=1)"
   ]
  },
  {
   "cell_type": "code",
   "execution_count": 35,
   "metadata": {},
   "outputs": [],
   "source": [
    "train_idxs = model_inputs['user_joke_info'].index \\\n",
    "                [model_inputs['user_joke_info'].training_example + \\\n",
    "                    model_inputs['user_joke_info'].val_example == 1]\n",
    "test_idxs = model_inputs['user_joke_info'].index \\\n",
    "                [model_inputs['user_joke_info'].test_example == 1]"
   ]
  },
  {
   "cell_type": "code",
   "execution_count": 70,
   "metadata": {},
   "outputs": [],
   "source": [
    "def tune(objective, n_trials=10):\n",
    "    study = optuna.create_study(direction='maximize')\n",
    "    study.optimize(objective, n_trials=n_trials)\n",
    "\n",
    "    params = study.best_params\n",
    "    best_score = study.best_value\n",
    "    print(f'Best score: {best_score}\\n')\n",
    "    print(f'Optimized parameters: {params}\\n')\n",
    "    return params\n",
    "\n",
    "def lm_objective(trial):\n",
    "    _alpha = trial.suggest_loguniform('alpha', 1e-4, 10)\n",
    "    _random_state = trial.suggest_int('random_state', 0, 1000)\n",
    "\n",
    "    lm = Ridge(alpha=_alpha, random_state=_random_state, fit_intercept=False)\n",
    "    scores = cross_val_score(lm, \n",
    "                             full_df.iloc[train_idxs, 3:].values, \n",
    "                             full_df.iloc[train_idxs, 2].values, \n",
    "                             cv=[(slice(None), slice(None))],\n",
    "                             n_jobs=-1,\n",
    "                             verbose=4,\n",
    "                             scoring='neg_mean_absolute_error')\n",
    "    return scores.mean()"
   ]
  },
  {
   "cell_type": "code",
   "execution_count": 71,
   "metadata": {},
   "outputs": [
    {
     "name": "stderr",
     "output_type": "stream",
     "text": [
      "\u001b[32m[I 2021-11-28 19:23:48,162]\u001b[0m A new study created in memory with name: no-name-d0eac7ab-887c-4c5a-9baf-f8fd233bbeaa\u001b[0m\n",
      "[Parallel(n_jobs=-1)]: Using backend LokyBackend with 4 concurrent workers.\n",
      "[Parallel(n_jobs=-1)]: Done   1 out of   1 | elapsed:    0.1s finished\n",
      "\u001b[32m[I 2021-11-28 19:23:48,666]\u001b[0m Trial 0 finished with value: -3.2884380808757965 and parameters: {'alpha': 0.39973999543891725, 'random_state': 683}. Best is trial 0 with value: -3.2884380808757965.\u001b[0m\n",
      "[Parallel(n_jobs=-1)]: Using backend LokyBackend with 4 concurrent workers.\n",
      "[Parallel(n_jobs=-1)]: Done   1 out of   1 | elapsed:    0.2s finished\n",
      "\u001b[32m[I 2021-11-28 19:23:49,136]\u001b[0m Trial 1 finished with value: -3.2884380770360404 and parameters: {'alpha': 0.7335008748833022, 'random_state': 820}. Best is trial 1 with value: -3.2884380770360404.\u001b[0m\n",
      "[Parallel(n_jobs=-1)]: Using backend LokyBackend with 4 concurrent workers.\n",
      "[Parallel(n_jobs=-1)]: Done   1 out of   1 | elapsed:    0.2s finished\n",
      "\u001b[32m[I 2021-11-28 19:23:49,614]\u001b[0m Trial 2 finished with value: -3.2884380850123076 and parameters: {'alpha': 0.04020867728717471, 'random_state': 855}. Best is trial 1 with value: -3.2884380770360404.\u001b[0m\n",
      "[Parallel(n_jobs=-1)]: Using backend LokyBackend with 4 concurrent workers.\n",
      "[Parallel(n_jobs=-1)]: Done   1 out of   1 | elapsed:    0.2s finished\n",
      "\u001b[32m[I 2021-11-28 19:23:50,100]\u001b[0m Trial 3 finished with value: -3.288438063944358 and parameters: {'alpha': 1.8715152098480796, 'random_state': 150}. Best is trial 3 with value: -3.288438063944358.\u001b[0m\n",
      "[Parallel(n_jobs=-1)]: Using backend LokyBackend with 4 concurrent workers.\n",
      "[Parallel(n_jobs=-1)]: Done   1 out of   1 | elapsed:    0.2s finished\n",
      "\u001b[32m[I 2021-11-28 19:23:50,615]\u001b[0m Trial 4 finished with value: -3.288438083542119 and parameters: {'alpha': 0.16799212406236314, 'random_state': 982}. Best is trial 3 with value: -3.288438063944358.\u001b[0m\n",
      "[Parallel(n_jobs=-1)]: Using backend LokyBackend with 4 concurrent workers.\n",
      "[Parallel(n_jobs=-1)]: Done   1 out of   1 | elapsed:    0.1s finished\n",
      "\u001b[32m[I 2021-11-28 19:23:51,064]\u001b[0m Trial 5 finished with value: -3.288438076106945 and parameters: {'alpha': 0.8142619090405565, 'random_state': 66}. Best is trial 3 with value: -3.288438063944358.\u001b[0m\n",
      "[Parallel(n_jobs=-1)]: Using backend LokyBackend with 4 concurrent workers.\n",
      "[Parallel(n_jobs=-1)]: Done   1 out of   1 | elapsed:    0.2s finished\n",
      "\u001b[32m[I 2021-11-28 19:23:51,482]\u001b[0m Trial 6 finished with value: -3.288438085472617 and parameters: {'alpha': 0.00019990668648961685, 'random_state': 628}. Best is trial 3 with value: -3.288438063944358.\u001b[0m\n",
      "[Parallel(n_jobs=-1)]: Using backend LokyBackend with 4 concurrent workers.\n",
      "[Parallel(n_jobs=-1)]: Done   1 out of   1 | elapsed:    0.2s finished\n",
      "\u001b[32m[I 2021-11-28 19:23:51,933]\u001b[0m Trial 7 finished with value: -3.288438082173495 and parameters: {'alpha': 0.2869485418551131, 'random_state': 798}. Best is trial 3 with value: -3.288438063944358.\u001b[0m\n",
      "[Parallel(n_jobs=-1)]: Using backend LokyBackend with 4 concurrent workers.\n",
      "[Parallel(n_jobs=-1)]: Done   1 out of   1 | elapsed:    0.2s finished\n",
      "\u001b[32m[I 2021-11-28 19:23:52,373]\u001b[0m Trial 8 finished with value: -3.2884380854720976 and parameters: {'alpha': 0.00024506314102892693, 'random_state': 924}. Best is trial 3 with value: -3.288438063944358.\u001b[0m\n",
      "[Parallel(n_jobs=-1)]: Using backend LokyBackend with 4 concurrent workers.\n",
      "[Parallel(n_jobs=-1)]: Done   1 out of   1 | elapsed:    0.2s finished\n",
      "\u001b[32m[I 2021-11-28 19:23:52,838]\u001b[0m Trial 9 finished with value: -3.288438084495348 and parameters: {'alpha': 0.08514089843133622, 'random_state': 671}. Best is trial 3 with value: -3.288438063944358.\u001b[0m\n",
      "[Parallel(n_jobs=-1)]: Using backend LokyBackend with 4 concurrent workers.\n",
      "[Parallel(n_jobs=-1)]: Done   1 out of   1 | elapsed:    0.2s finished\n",
      "\u001b[32m[I 2021-11-28 19:23:53,284]\u001b[0m Trial 10 finished with value: -3.288438025000164 and parameters: {'alpha': 5.2569932087692495, 'random_state': 245}. Best is trial 10 with value: -3.288438025000164.\u001b[0m\n",
      "[Parallel(n_jobs=-1)]: Using backend LokyBackend with 4 concurrent workers.\n",
      "[Parallel(n_jobs=-1)]: Done   1 out of   1 | elapsed:    0.2s finished\n",
      "\u001b[32m[I 2021-11-28 19:23:53,738]\u001b[0m Trial 11 finished with value: -3.288438012767888 and parameters: {'alpha': 6.320469535611824, 'random_state': 201}. Best is trial 11 with value: -3.288438012767888.\u001b[0m\n",
      "[Parallel(n_jobs=-1)]: Using backend LokyBackend with 4 concurrent workers.\n",
      "[Parallel(n_jobs=-1)]: Done   1 out of   1 | elapsed:    0.3s finished\n",
      "\u001b[32m[I 2021-11-28 19:23:54,361]\u001b[0m Trial 12 finished with value: -3.2884380291244204 and parameters: {'alpha': 4.898430549757039, 'random_state': 287}. Best is trial 11 with value: -3.288438012767888.\u001b[0m\n",
      "[Parallel(n_jobs=-1)]: Using backend LokyBackend with 4 concurrent workers.\n",
      "[Parallel(n_jobs=-1)]: Done   1 out of   1 | elapsed:    0.2s finished\n",
      "\u001b[32m[I 2021-11-28 19:23:54,824]\u001b[0m Trial 13 finished with value: -3.28843808546032 and parameters: {'alpha': 0.0012690797283706871, 'random_state': 368}. Best is trial 11 with value: -3.288438012767888.\u001b[0m\n",
      "[Parallel(n_jobs=-1)]: Using backend LokyBackend with 4 concurrent workers.\n",
      "[Parallel(n_jobs=-1)]: Done   1 out of   1 | elapsed:    0.2s finished\n",
      "\u001b[32m[I 2021-11-28 19:23:55,254]\u001b[0m Trial 14 finished with value: -3.2884379883310655 and parameters: {'alpha': 8.44514833875606, 'random_state': 279}. Best is trial 14 with value: -3.2884379883310655.\u001b[0m\n",
      "[Parallel(n_jobs=-1)]: Using backend LokyBackend with 4 concurrent workers.\n",
      "[Parallel(n_jobs=-1)]: Done   1 out of   1 | elapsed:    0.2s finished\n",
      "\u001b[32m[I 2021-11-28 19:23:55,677]\u001b[0m Trial 15 finished with value: -3.2884380854182798 and parameters: {'alpha': 0.004922797092152074, 'random_state': 443}. Best is trial 14 with value: -3.2884379883310655.\u001b[0m\n",
      "[Parallel(n_jobs=-1)]: Using backend LokyBackend with 4 concurrent workers.\n",
      "[Parallel(n_jobs=-1)]: Done   1 out of   1 | elapsed:    0.2s finished\n",
      "\u001b[32m[I 2021-11-28 19:23:56,129]\u001b[0m Trial 16 finished with value: -3.288438011467277 and parameters: {'alpha': 6.4335454188598735, 'random_state': 56}. Best is trial 14 with value: -3.2884379883310655.\u001b[0m\n",
      "[Parallel(n_jobs=-1)]: Using backend LokyBackend with 4 concurrent workers.\n",
      "[Parallel(n_jobs=-1)]: Done   1 out of   1 | elapsed:    0.2s finished\n",
      "\u001b[32m[I 2021-11-28 19:23:56,570]\u001b[0m Trial 17 finished with value: -3.288438085375997 and parameters: {'alpha': 0.008598361621767607, 'random_state': 71}. Best is trial 14 with value: -3.2884379883310655.\u001b[0m\n",
      "[Parallel(n_jobs=-1)]: Using backend LokyBackend with 4 concurrent workers.\n",
      "[Parallel(n_jobs=-1)]: Done   1 out of   1 | elapsed:    0.2s finished\n",
      "\u001b[32m[I 2021-11-28 19:23:57,037]\u001b[0m Trial 18 finished with value: -3.2884380657514756 and parameters: {'alpha': 1.7144276479005782, 'random_state': 4}. Best is trial 14 with value: -3.2884379883310655.\u001b[0m\n",
      "[Parallel(n_jobs=-1)]: Using backend LokyBackend with 4 concurrent workers.\n",
      "[Parallel(n_jobs=-1)]: Done   1 out of   1 | elapsed:    0.2s finished\n",
      "\u001b[32m[I 2021-11-28 19:23:57,562]\u001b[0m Trial 19 finished with value: -3.2884379856343307 and parameters: {'alpha': 8.679629030110046, 'random_state': 350}. Best is trial 19 with value: -3.2884379856343307.\u001b[0m\n"
     ]
    },
    {
     "name": "stdout",
     "output_type": "stream",
     "text": [
      "Best score: -3.2884379856343307\n",
      "\n",
      "Optimized parameters: {'alpha': 8.679629030110046, 'random_state': 350}\n",
      "\n"
     ]
    }
   ],
   "source": [
    "lm_params = tune(lm_objective, n_trials=100)"
   ]
  },
  {
   "cell_type": "code",
   "execution_count": 72,
   "metadata": {},
   "outputs": [
    {
     "name": "stdout",
     "output_type": "stream",
     "text": [
      "Ridge params: {'alpha': 8.679629030110046, 'copy_X': True, 'fit_intercept': False, 'max_iter': None, 'normalize': 'deprecated', 'positive': False, 'random_state': 350, 'solver': 'auto', 'tol': 0.001}\n",
      "MAE: 3.50\n"
     ]
    }
   ],
   "source": [
    "lm = Ridge(**lm_params)\n",
    "lm.set_params(**{'fit_intercept': False})\n",
    "print(f'Ridge params: {lm.get_params()}')\n",
    "lm.fit(full_df.iloc[train_idxs, 3:].values, full_df.iloc[train_idxs, 2].values)\n",
    "rating = full_df.iloc[test_idxs, 2].values\n",
    "rating_pred = lm.predict(full_df.iloc[test_idxs, 3:].values)\n",
    "print(f'MAE: {mean_absolute_error(rating, rating_pred):0.2f}')"
   ]
  },
  {
   "cell_type": "code",
   "execution_count": 80,
   "metadata": {},
   "outputs": [
    {
     "data": {
      "text/html": [
       "<div>\n",
       "<style scoped>\n",
       "    .dataframe tbody tr th:only-of-type {\n",
       "        vertical-align: middle;\n",
       "    }\n",
       "\n",
       "    .dataframe tbody tr th {\n",
       "        vertical-align: top;\n",
       "    }\n",
       "\n",
       "    .dataframe thead th {\n",
       "        text-align: right;\n",
       "    }\n",
       "</style>\n",
       "<table border=\"1\" class=\"dataframe\">\n",
       "  <thead>\n",
       "    <tr style=\"text-align: right;\">\n",
       "      <th></th>\n",
       "      <th>user_id</th>\n",
       "      <th>joke_id</th>\n",
       "      <th>rating</th>\n",
       "      <th>cb_rating</th>\n",
       "      <th>cf_rating</th>\n",
       "      <th>ensemble_rating</th>\n",
       "    </tr>\n",
       "  </thead>\n",
       "  <tbody>\n",
       "    <tr>\n",
       "      <th>0</th>\n",
       "      <td>0</td>\n",
       "      <td>1</td>\n",
       "      <td>99.00</td>\n",
       "      <td>-0.162202</td>\n",
       "      <td>0.668646</td>\n",
       "      <td>-0.447613</td>\n",
       "    </tr>\n",
       "    <tr>\n",
       "      <th>1</th>\n",
       "      <td>0</td>\n",
       "      <td>2</td>\n",
       "      <td>99.00</td>\n",
       "      <td>-0.974697</td>\n",
       "      <td>-0.259347</td>\n",
       "      <td>-1.168026</td>\n",
       "    </tr>\n",
       "    <tr>\n",
       "      <th>2</th>\n",
       "      <td>0</td>\n",
       "      <td>3</td>\n",
       "      <td>99.00</td>\n",
       "      <td>-0.172788</td>\n",
       "      <td>0.256150</td>\n",
       "      <td>-0.314548</td>\n",
       "    </tr>\n",
       "    <tr>\n",
       "      <th>3</th>\n",
       "      <td>0</td>\n",
       "      <td>4</td>\n",
       "      <td>99.00</td>\n",
       "      <td>-2.501286</td>\n",
       "      <td>-1.645284</td>\n",
       "      <td>-2.648846</td>\n",
       "    </tr>\n",
       "    <tr>\n",
       "      <th>4</th>\n",
       "      <td>0</td>\n",
       "      <td>5</td>\n",
       "      <td>-1.65</td>\n",
       "      <td>1.915733</td>\n",
       "      <td>2.616649</td>\n",
       "      <td>1.546138</td>\n",
       "    </tr>\n",
       "  </tbody>\n",
       "</table>\n",
       "</div>"
      ],
      "text/plain": [
       "   user_id joke_id  rating  cb_rating  cf_rating  ensemble_rating\n",
       "0        0       1   99.00  -0.162202   0.668646        -0.447613\n",
       "1        0       2   99.00  -0.974697  -0.259347        -1.168026\n",
       "2        0       3   99.00  -0.172788   0.256150        -0.314548\n",
       "3        0       4   99.00  -2.501286  -1.645284        -2.648846\n",
       "4        0       5   -1.65   1.915733   2.616649         1.546138"
      ]
     },
     "metadata": {},
     "output_type": "display_data"
    }
   ],
   "source": [
    "predictions_ensemble = full_df.copy()\n",
    "predictions_ensemble.insert(len(full_df.columns),\n",
    "                                                   'ensemble_rating', \n",
    "                                                   lm.predict(full_df.iloc[:, 3:].values))\n",
    "\n",
    "display(predictions_ensemble.head())\n",
    "with open('./results/ensemble_nov28.pkl', 'wb') as f: pickle.dump(predictions_ensemble, f)"
   ]
  }
 ],
 "metadata": {
  "interpreter": {
   "hash": "4a6dc7e7ff3d9bccc81bea9db20e015352fae04005cfe18fcf16862f864c02a2"
  },
  "kernelspec": {
   "display_name": "Python 3.8.2 64-bit ('ecommerce_jokes': conda)",
   "language": "python",
   "name": "python3"
  },
  "language_info": {
   "codemirror_mode": {
    "name": "ipython",
    "version": 3
   },
   "file_extension": ".py",
   "mimetype": "text/x-python",
   "name": "python",
   "nbconvert_exporter": "python",
   "pygments_lexer": "ipython3",
   "version": "3.8.2"
  },
  "orig_nbformat": 4
 },
 "nbformat": 4,
 "nbformat_minor": 2
}
