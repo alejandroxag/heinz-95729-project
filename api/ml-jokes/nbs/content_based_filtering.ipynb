{
 "cells": [
  {
   "cell_type": "markdown",
   "metadata": {},
   "source": [
    "Authors:\n",
    "    <br>Alejandro Alvarez (axa)\n",
    "    <br>Brenda Palma (bpalmagu)\n",
    "\n",
    "# <center>ML-Jokes: Content-Based Filtering</center>"
   ]
  },
  {
   "cell_type": "code",
   "execution_count": 1,
   "metadata": {},
   "outputs": [],
   "source": [
    "import numpy as np\n",
    "import pandas as pd\n",
    "from sklearn.feature_extraction.text import CountVectorizer\n",
    "from sklearn.decomposition import LatentDirichletAllocation"
   ]
  },
  {
   "cell_type": "code",
   "execution_count": 2,
   "metadata": {},
   "outputs": [],
   "source": [
    "# Path to ml-jokes folder\n",
    "PROJECT_PATH = r'/home/brendapalmag/eCommerce/heinz-95729-project/api/ml-jokes'"
   ]
  },
  {
   "cell_type": "markdown",
   "metadata": {},
   "source": [
    "### Load and prepare data"
   ]
  },
  {
   "cell_type": "code",
   "execution_count": 3,
   "metadata": {},
   "outputs": [
    {
     "data": {
      "text/html": [
       "<div>\n",
       "<style scoped>\n",
       "    .dataframe tbody tr th:only-of-type {\n",
       "        vertical-align: middle;\n",
       "    }\n",
       "\n",
       "    .dataframe tbody tr th {\n",
       "        vertical-align: top;\n",
       "    }\n",
       "\n",
       "    .dataframe thead th {\n",
       "        text-align: right;\n",
       "    }\n",
       "</style>\n",
       "<table border=\"1\" class=\"dataframe\">\n",
       "  <thead>\n",
       "    <tr style=\"text-align: right;\">\n",
       "      <th></th>\n",
       "      <th>text</th>\n",
       "      <th>clean_text</th>\n",
       "      <th>len</th>\n",
       "    </tr>\n",
       "  </thead>\n",
       "  <tbody>\n",
       "    <tr>\n",
       "      <th>0</th>\n",
       "      <td>One Sunday morning William burst into the livi...</td>\n",
       "      <td>one sunday morning william burst living room s...</td>\n",
       "      <td>218</td>\n",
       "    </tr>\n",
       "    <tr>\n",
       "      <th>1</th>\n",
       "      <td>Q: How do you keep a computer programmer in th...</td>\n",
       "      <td>q keep computer programmer shower day long giv...</td>\n",
       "      <td>27</td>\n",
       "    </tr>\n",
       "    <tr>\n",
       "      <th>2</th>\n",
       "      <td>A horse walks into a bar. Bartender says: \"So,...</td>\n",
       "      <td>horse walk bar bartender say long face</td>\n",
       "      <td>13</td>\n",
       "    </tr>\n",
       "    <tr>\n",
       "      <th>3</th>\n",
       "      <td>Q: How many programmers does it take to change...</td>\n",
       "      <td>q many programmer take change lightbulb none h...</td>\n",
       "      <td>17</td>\n",
       "    </tr>\n",
       "    <tr>\n",
       "      <th>4</th>\n",
       "      <td>Just a thought .. Before criticizing someone, ...</td>\n",
       "      <td>thought criticizing someone walk mile shoe cri...</td>\n",
       "      <td>30</td>\n",
       "    </tr>\n",
       "  </tbody>\n",
       "</table>\n",
       "</div>"
      ],
      "text/plain": [
       "                                                text  \\\n",
       "0  One Sunday morning William burst into the livi...   \n",
       "1  Q: How do you keep a computer programmer in th...   \n",
       "2  A horse walks into a bar. Bartender says: \"So,...   \n",
       "3  Q: How many programmers does it take to change...   \n",
       "4  Just a thought .. Before criticizing someone, ...   \n",
       "\n",
       "                                          clean_text  len  \n",
       "0  one sunday morning william burst living room s...  218  \n",
       "1  q keep computer programmer shower day long giv...   27  \n",
       "2             horse walk bar bartender say long face   13  \n",
       "3  q many programmer take change lightbulb none h...   17  \n",
       "4  thought criticizing someone walk mile shoe cri...   30  "
      ]
     },
     "execution_count": 3,
     "metadata": {},
     "output_type": "execute_result"
    }
   ],
   "source": [
    "# Load jokes\n",
    "jokes_filename = PROJECT_PATH +r'/data/jokes_preprocessed.csv'\n",
    "jokes_df = pd.read_csv(jokes_filename)\n",
    "jokes_df.head()"
   ]
  },
  {
   "cell_type": "code",
   "execution_count": 4,
   "metadata": {},
   "outputs": [
    {
     "data": {
      "text/plain": [
       "array(['_num_', 'abortion', 'accompanied', ..., 'younger', 'zipper', 'zo'],\n",
       "      dtype=object)"
      ]
     },
     "execution_count": 4,
     "metadata": {},
     "output_type": "execute_result"
    }
   ],
   "source": [
    "# Encode text\n",
    "vectorizer = CountVectorizer()\n",
    "X = vectorizer.fit_transform(jokes_df.clean_text)\n",
    "vectorizer.get_feature_names_out()"
   ]
  },
  {
   "cell_type": "code",
   "execution_count": 5,
   "metadata": {},
   "outputs": [],
   "source": [
    "# Find latent topics\n",
    "lda = LatentDirichletAllocation(n_components=5,random_state=0)\n",
    "X_topics = lda.fit_transform(X)"
   ]
  },
  {
   "cell_type": "markdown",
   "metadata": {},
   "source": [
    "### Regression model to predict ratings"
   ]
  },
  {
   "cell_type": "code",
   "execution_count": null,
   "metadata": {},
   "outputs": [],
   "source": []
  }
 ],
 "metadata": {
  "interpreter": {
   "hash": "0fa4841112433a5c590ed7b6f6ce3f794127901ec0a57511be6d2a6ebc3c3baa"
  },
  "kernelspec": {
   "display_name": "Python 3.8.2 64-bit ('ecommerce_jokes': conda)",
   "name": "python3"
  },
  "language_info": {
   "codemirror_mode": {
    "name": "ipython",
    "version": 3
   },
   "file_extension": ".py",
   "mimetype": "text/x-python",
   "name": "python",
   "nbconvert_exporter": "python",
   "pygments_lexer": "ipython3",
   "version": "3.8.2"
  },
  "orig_nbformat": 4
 },
 "nbformat": 4,
 "nbformat_minor": 2
}
