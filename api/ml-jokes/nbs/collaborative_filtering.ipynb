{
 "cells": [
  {
   "cell_type": "markdown",
   "metadata": {},
   "source": [
    "Authors:\n",
    "    <br>Alejandro Alvarez (axa)\n",
    "    <br>Brenda Palma (bpalmagu)\n",
    "\n",
    "# <center>ML-Jokes: Collaborative Filtering </center>"
   ]
  },
  {
   "cell_type": "markdown",
   "metadata": {},
   "source": [
    "## Setup"
   ]
  },
  {
   "cell_type": "code",
   "execution_count": 1,
   "metadata": {},
   "outputs": [
    {
     "name": "stdout",
     "output_type": "stream",
     "text": [
      "Current directory: /home/brendapalmag/eCommerce/heinz-95729-project/api/ml-jokes\n"
     ]
    }
   ],
   "source": [
    "# Path to ml-jokes folder\n",
    "import os\n",
    "if os.getcwd().split('/')[-2] == 'ml-jokes': os.chdir('..')\n",
    "print(f'Current directory: {os.getcwd()}')\n",
    "assert set(['data', 'mljokes', 'environment.yml', 'nbs']) <= set(os.listdir()), \\\n",
    "    'Wrong path; go to ./heinz-95729-project/api/ml-jokes'"
   ]
  },
  {
   "cell_type": "code",
   "execution_count": 2,
   "metadata": {},
   "outputs": [],
   "source": [
    "import pandas as pd\n",
    "import numpy as np\n",
    "import matplotlib.pyplot as plt\n",
    "from surprise import SVD\n",
    "from surprise import Dataset, Reader\n",
    "from surprise import accuracy\n",
    "from surprise import dump\n",
    "from surprise.model_selection import cross_validate, train_test_split, GridSearchCV\n",
    "from mljokes.data import read_jokes, read_ratings, load_test_idx\n",
    "from mljokes import cf_utils as cfu"
   ]
  },
  {
   "cell_type": "markdown",
   "metadata": {},
   "source": [
    "## Data Prep"
   ]
  },
  {
   "cell_type": "code",
   "execution_count": 3,
   "metadata": {},
   "outputs": [],
   "source": [
    "# Read jokes\n",
    "jokes = read_jokes()"
   ]
  },
  {
   "cell_type": "code",
   "execution_count": 10,
   "metadata": {},
   "outputs": [
    {
     "data": {
      "text/html": [
       "<div>\n",
       "<style scoped>\n",
       "    .dataframe tbody tr th:only-of-type {\n",
       "        vertical-align: middle;\n",
       "    }\n",
       "\n",
       "    .dataframe tbody tr th {\n",
       "        vertical-align: top;\n",
       "    }\n",
       "\n",
       "    .dataframe thead th {\n",
       "        text-align: right;\n",
       "    }\n",
       "</style>\n",
       "<table border=\"1\" class=\"dataframe\">\n",
       "  <thead>\n",
       "    <tr style=\"text-align: right;\">\n",
       "      <th></th>\n",
       "      <th>user_id</th>\n",
       "      <th>joke_id</th>\n",
       "      <th>rating</th>\n",
       "      <th>test_user</th>\n",
       "      <th>test_idx</th>\n",
       "    </tr>\n",
       "  </thead>\n",
       "  <tbody>\n",
       "    <tr>\n",
       "      <th>0</th>\n",
       "      <td>0</td>\n",
       "      <td>1</td>\n",
       "      <td>99.0</td>\n",
       "      <td>0</td>\n",
       "      <td>0</td>\n",
       "    </tr>\n",
       "    <tr>\n",
       "      <th>1</th>\n",
       "      <td>0</td>\n",
       "      <td>2</td>\n",
       "      <td>99.0</td>\n",
       "      <td>0</td>\n",
       "      <td>0</td>\n",
       "    </tr>\n",
       "    <tr>\n",
       "      <th>2</th>\n",
       "      <td>0</td>\n",
       "      <td>3</td>\n",
       "      <td>99.0</td>\n",
       "      <td>0</td>\n",
       "      <td>0</td>\n",
       "    </tr>\n",
       "  </tbody>\n",
       "</table>\n",
       "</div>"
      ],
      "text/plain": [
       "   user_id joke_id  rating  test_user  test_idx\n",
       "0        0       1    99.0          0         0\n",
       "1        0       2    99.0          0         0\n",
       "2        0       3    99.0          0         0"
      ]
     },
     "execution_count": 10,
     "metadata": {},
     "output_type": "execute_result"
    }
   ],
   "source": [
    "# Read and consolidate jester ratings\n",
    "test_idx = load_test_idx()\n",
    "ratings = read_ratings()\n",
    "ratings['test_idx'] = test_idx\n",
    "\n",
    "del test_idx\n",
    "\n",
    "ratings.head(3)"
   ]
  },
  {
   "cell_type": "code",
   "execution_count": 12,
   "metadata": {},
   "outputs": [
    {
     "data": {
      "text/html": [
       "<div>\n",
       "<style scoped>\n",
       "    .dataframe tbody tr th:only-of-type {\n",
       "        vertical-align: middle;\n",
       "    }\n",
       "\n",
       "    .dataframe tbody tr th {\n",
       "        vertical-align: top;\n",
       "    }\n",
       "\n",
       "    .dataframe thead th {\n",
       "        text-align: right;\n",
       "    }\n",
       "</style>\n",
       "<table border=\"1\" class=\"dataframe\">\n",
       "  <thead>\n",
       "    <tr style=\"text-align: right;\">\n",
       "      <th></th>\n",
       "      <th>user_id</th>\n",
       "      <th>joke_id</th>\n",
       "      <th>rating</th>\n",
       "      <th>test_user</th>\n",
       "      <th>test_idx</th>\n",
       "    </tr>\n",
       "  </thead>\n",
       "  <tbody>\n",
       "    <tr>\n",
       "      <th>0</th>\n",
       "      <td>0</td>\n",
       "      <td>5</td>\n",
       "      <td>-1.65</td>\n",
       "      <td>0</td>\n",
       "      <td>0</td>\n",
       "    </tr>\n",
       "    <tr>\n",
       "      <th>1</th>\n",
       "      <td>0</td>\n",
       "      <td>7</td>\n",
       "      <td>-0.78</td>\n",
       "      <td>0</td>\n",
       "      <td>0</td>\n",
       "    </tr>\n",
       "    <tr>\n",
       "      <th>2</th>\n",
       "      <td>0</td>\n",
       "      <td>8</td>\n",
       "      <td>6.89</td>\n",
       "      <td>0</td>\n",
       "      <td>0</td>\n",
       "    </tr>\n",
       "  </tbody>\n",
       "</table>\n",
       "</div>"
      ],
      "text/plain": [
       "   user_id joke_id  rating  test_user  test_idx\n",
       "0        0       5   -1.65          0         0\n",
       "1        0       7   -0.78          0         0\n",
       "2        0       8    6.89          0         0"
      ]
     },
     "execution_count": 12,
     "metadata": {},
     "output_type": "execute_result"
    }
   ],
   "source": [
    "# Filter out missing ratings (99.0)\n",
    "unseen = ratings.loc[ratings['rating']==99]\n",
    "ratings = ratings.loc[ratings['rating']!=99]\n",
    "ratings.reset_index(inplace=True, drop=True)\n",
    "ratings.sort_values(by=['user_id', 'joke_id'], ascending=True, inplace=True, ignore_index=True)\n",
    "ratings.head(3)"
   ]
  },
  {
   "cell_type": "markdown",
   "metadata": {},
   "source": [
    "## SVD Model"
   ]
  },
  {
   "cell_type": "code",
   "execution_count": 17,
   "metadata": {},
   "outputs": [],
   "source": [
    "# Build custom dataset \n",
    "reader = Reader(rating_scale=(ratings.rating.min(), ratings.rating.max()))\n",
    "data = Dataset.load_from_df(ratings[['user_id', 'joke_id', 'rating']], reader)"
   ]
  },
  {
   "cell_type": "code",
   "execution_count": 412,
   "metadata": {},
   "outputs": [
    {
     "name": "stdout",
     "output_type": "stream",
     "text": [
      "3.2880766368255827\n",
      "{'lr_all': 0.002, 'n_factors': 10, 'biased': False, 'reg_all': 0.05}\n"
     ]
    }
   ],
   "source": [
    "# Hyperparameter tuning\n",
    "param_grid = {'lr_all': [0.002, 0.005], \\\n",
    "    'n_factors': [10, 15, 20, 30],\\\n",
    "        'biased': [True, False],\\\n",
    "            'reg_all': [0.02, 0.05]}\n",
    "\n",
    "gs = GridSearchCV(SVD, param_grid, measures=['mae', 'rmse'], cv=3)\n",
    "gs.fit(data)\n",
    "\n",
    "# Best MAE score\n",
    "print(gs.best_score['mae'])\n",
    "\n",
    "# Combination of parameters that gave the best MAE score\n",
    "print(gs.best_params['mae'])"
   ]
  },
  {
   "cell_type": "code",
   "execution_count": 20,
   "metadata": {},
   "outputs": [
    {
     "data": {
      "text/plain": [
       "<surprise.prediction_algorithms.matrix_factorization.SVD at 0x7f33ec654460>"
      ]
     },
     "execution_count": 20,
     "metadata": {},
     "output_type": "execute_result"
    }
   ],
   "source": [
    "# Train model with full train dataset\n",
    "data = Dataset.load_from_df(ratings.loc[ratings['test_idx']==0,['user_id', 'joke_id', 'rating']], reader)\n",
    "trainset = data.build_full_trainset()\n",
    "\n",
    "model = gs.best_estimator['mae']\n",
    "model.fit(trainset)\n"
   ]
  },
  {
   "cell_type": "code",
   "execution_count": 27,
   "metadata": {},
   "outputs": [
    {
     "name": "stdout",
     "output_type": "stream",
     "text": [
      "MAE:  3.3316\n"
     ]
    },
    {
     "data": {
      "text/plain": [
       "3.331646376696592"
      ]
     },
     "execution_count": 27,
     "metadata": {},
     "output_type": "execute_result"
    }
   ],
   "source": [
    "# Get MAE on test set\n",
    "test_data = Dataset.load_from_df(ratings.loc[ratings['test_idx']==1,['user_id', 'joke_id', 'rating']], reader)\n",
    "_, test_data = train_test_split(test_data, test_size=1.0)\n",
    "\n",
    "predictions = model.test(test_data)\n",
    "accuracy.mae(predictions)\n"
   ]
  },
  {
   "cell_type": "code",
   "execution_count": 28,
   "metadata": {},
   "outputs": [],
   "source": [
    "# Save model\n",
    "file_name = './results/cf_bestModel_mae'\n",
    "dump.dump(file_name, algo=model, verbose=0)"
   ]
  },
  {
   "cell_type": "markdown",
   "metadata": {},
   "source": [
    "## Get all predictions"
   ]
  },
  {
   "cell_type": "code",
   "execution_count": 35,
   "metadata": {},
   "outputs": [],
   "source": [
    "all_ratings = cfu.get_all_ratings(model)\n",
    "all_ratings.to_pickle('./results/cf_preds.pkl')"
   ]
  },
  {
   "cell_type": "markdown",
   "metadata": {},
   "source": [
    "## Get Recommendations"
   ]
  },
  {
   "cell_type": "code",
   "execution_count": 19,
   "metadata": {},
   "outputs": [],
   "source": [
    "# Load model\n",
    "file_name = './results/cf_bestModel_mae'\n",
    "_, model = dump.load(file_name)"
   ]
  },
  {
   "cell_type": "code",
   "execution_count": 38,
   "metadata": {},
   "outputs": [
    {
     "name": "stdout",
     "output_type": "stream",
     "text": [
      "Top rated jokes\n",
      "A man piloting a hot air balloon discovers he has wandered off course and is hopelessly lost. He descends to a lower altitude and locates a man down on the ground. He lowers the balloon further and shouts \"Excuse me, can you tell me where I am?\" The man below says: \"Yes, you're in a hot air balloon, about 30 feet above this field.\" \"You must work in Information Technology,\" says the balloonist. \"Yes I do,\" replies the man. \"And how did you know that?\" \"Well,\" says the balloonist, \"what you told me is technically correct, but of no use to anyone.\" The man below says, \"You must work in management.\" \"I do,\" replies the balloonist, \"how did you know?\" \"Well,\" says the man, \"you don't know where you are, or where you're going, but you expect my immediate help. You're in the same position you were before we met, but now it's my fault!\" \n",
      "\n",
      "One Sunday morning William burst into the living room and said, \"Dad! Mom! I have some great news for you! I am getting married to the most beautiful girl in town. She lives a block away and her name is Susan.\" After dinner, William's dad took him aside. \"Son, I have to talk with you. Your mother and I have been married 30 years.. She's a wonderful wife but she has never offered much excitement in the bedroom, so I used to fool around with women a lot. Susan is actually your half-sister, and I'm afraid you can't marry her.\" William was heart-broken. After eight months he eventually started dating girls again. A year later he came home and very proudly announced, \"Dianne said yes! We're getting married in June.\" Again his father insisted on another private conversation and broke the sad news. \"Dianne is your half-sister too, William. I'm awfully sorry about this.\" William was furious! He finally decided to go to his mother with the news. \"Dad has done so much harm.. I guess I'm never going to get married,\" he complained. \"Every time I fall in love, Dad tells me the girl is my half-sister.\" His mother just shook her head. \"Don't pay any attention to what he says, dear. He's not really your father.\" \n",
      "\n",
      "A group of managers were given the assignment to measure the height of a flagpole. So they go out to the flagpole with ladders and tape measures, and they're falling off the ladders, dropping the tape measures - the whole thing is just a mess. An engineer comes along and sees what they're trying to do, walks over, pulls the flagpole out of the ground, lays it flat, measures it from end to end, gives the measurement to one of the managers and walks away. After the engineer has gone, one manager turns to another and laughs. \"Isn't that just like an engineer, we're looking for the height and he gives us the length.\" \n",
      "\n",
      "Worst rated jokes\n",
      "Q. What is orange and sounds like a parrot? A. A carrot. \n",
      "\n",
      "An explorer in the deepest Amazon suddenly finds himself surrounded by a bloodthirsty group of natives. Upon surveying the situation, he says quietly to himself, \"Oh God, I'm screwed.\" The sky darkens and a voice booms out, \"No, you are NOT screwed. Pick up that stone at your feet and bash in the head of the chief standing in front of you.\" So with the stone he bashes the life out of the chief. Standing above the lifeless body, breathing heavily looking at 100 angry natives... The voice booms out again, \"Okay ..... NOW you're screwed.\" \n",
      "\n",
      "Q. Did you hear about the dyslexic devil worshiper? A. He sold his soul to Santa. \n",
      "\n",
      "Recommendations\n",
      "An engineer, a physicist and a mathematician are sleeping in a room. There is a fire in the room. The engineer wakes up, sees the fire, picks up the bucket of water and douses the fire and goes back to sleep. Again there is fire in the room. This time, the physicist wakes up, notices the bucket, fills it with water, calculates the optimal trajectory and douses the fire in minimum amount of water and goes back to sleep. Again there is fire. This time the mathematician wakes up. He looks at the fire, looks at the bucket and the water and exclaims, \"A solution exists\" and goes back to sleep. \n",
      "\n",
      "The graduate with a Science degree asks, \"Why does it work?\" The graduate with an Engineering degree asks, \"How does it work?\" The graduate with an Accounting degree Asks, \"How much will it cost?\" The graduate with a Liberal Arts degree asks, \"Do you want fries with that?\" \n",
      "\n",
      "A mechanical, electrical and a software engineer from Microsoft were driving through the desert when the car broke down. The mechanical engineer said \"It seems to be a problem with the fuel injection system, why don't we pop the hood and I'll take a look at it.\" To which the electrical engineer replied, \"No I think it's just a loose ground wire, I'll get out and take a look.\" Then, the Microsoft engineer jumps in. \"No, no, no. If we just close up all the windows, get out, wait a few minutes, get back in, and then reopen the windows everything will work fine.\" \n",
      "\n",
      "There was an engineer who had an exceptional gift for fixing all things mechanical. After serving his company loyally for over 30 years, he happily retired. Several years later the company contacted him regarding a seemingly impossible problem they were having with one of their multi-million dollar machines. They had tried everything and everyone else to get the machine fixed, but to no avail. In desperation, they called on the retired engineer who had solved so many of their problems in the past. The engineer reluctantly took the challenge. He spent a day studying the huge machine. At the end of the day, he marked a small \"x\" in chalk on a particular component of the machine and proudly stated, \"This is where your problem is\". The part was replaced and the machine worked perfectly again. The company received a bill for $50,000 from the engineer for his service.They demanded an itemized accounting of his charges. The engineer responded briefly: One chalk mark $1 Knowing where to put it $49,999 It was paid in full and the engineer retired again in peace. \n",
      "\n",
      "What is the difference between men and women: A woman wants one man to satisfy her every need. A man wants every woman to satisfy his one need. \n",
      "\n",
      "A guy walks into a bar and sits down next to an extremely gorgeous woman. The first thing he notices about her though, are her pants. They were skin-tight, high-waisted and had no obvious mechanism (zipper, buttons or velcro) for opening them. After several minutes of puzzling over how she got the pants up over her hips, he finally worked up the nerve to ask her. \"Excuse me miss, but how do you get into your pants?\" \"Well,\" she replied, \"you can start by buying me a drink.\" \n",
      "\n",
      "The Pope dies and, naturally, goes to heaven. He's met by the reception committee, and after a whirlwind tour he is told that he can enjoy any of the myriad of recreations available. He decides that he wants to read all of the ancient original text of the Holy Scriptures, so he spends the next eon or so learning languages. After becoming a linguistic master, he sits down in the library and begins to pour over every version of the Bible, working back from most recent \"Easy Reading\" to the original script. All of a sudden there is a scream in the library. The Angels come running in only to find the Pope huddled in his chair, crying to himself and muttering, \"An 'R'! The scribes left out the 'R'.\" A particularly concerned Angel takes him aside, offering comfort, asks him what the problem is and what does he mean. After collecting his wits, the Pope sobs again, \"It's the letter 'R'. They left out the 'R'. The word was supposed to be CELEBRATE!\" \n",
      "\n",
      "Two men are discussing the age old question: who enjoys sex more, the man or the woman? A woman walks by and listens in for awhile and then interrupts: \"Listen you guys. You know when your ear itches and you put in your little finger and wiggle it around for awhile? Afterward, which feels better, your finger or your ear?\" \n",
      "\n",
      "Two kindergarten girls were talking outside: one said, \"You won't believe what I saw on the patio yesterday--a condom!\" The second girl asked, \"What's a patio?\" \n",
      "\n",
      "How many Irishmen does it take to change a lightbulb? Two, one to hold the lightbulb and the other to drink until the room spins. \n",
      "\n",
      "Counter recommendations\n",
      "What do you get when you run over a parakeet with a lawnmower? Shredded tweet. \n",
      "\n",
      "How many teddybears does it take to change a lightbulb? It takes only one teddybear, but it takes a whole lot of lightbulbs. \n",
      "\n",
      "Q: Do you know the difference between an intelligent male and the Sasquatch? A: There have been actual reported sightings of the Sasquatch. \n",
      "\n",
      "Q: Ever wonder why the IRS calls it Form 1040? A: Because for every $50 that you earn, you get 10 and they get 40. \n",
      "\n",
      "Q. What's 200 feet long and has 4 teeth? A. The front row at a Willie Nelson Concert. \n",
      "\n",
      "Once upon a time, two brooms fell in love and decided to get married. Before the ceremony, the bride broom informed the groom broom that she was expecting a little whiskbroom. The groom broom was aghast! \"How is this possible?\" he asked. \"We've never swept together! \n",
      "\n",
      "Arnold Swartzeneger and Sylvester Stallone are making a movie about the lives of the great composers. Stallone says \"I want to be Mozart.\" Swartzeneger says: \"In that case... I'll be Bach.\" \n",
      "\n",
      "A woman has twins, and gives them up for adoption. One of them goes to a family in Egypt and is named \"Amal.\" The other goes to a family in Spain; they name him \"Juan.\" Years later, Juan sends a picture of himself to his mom. Upon receiving the picture, she tells her husband that she wishes she also had a picture of Amal. Her husband responds, \"But they are twins-if you've seen Juan, you've seen Amal. \n",
      "\n",
      "Q: How many stalkers does it take to change a light bulb? A: Two. One to replace the bulb, and the other to watch it day and night. \n",
      "\n",
      "Why are there so many Jones's in the phone book? Because they all have phones. \n",
      "\n"
     ]
    }
   ],
   "source": [
    "# Choose user\n",
    "user_id = 4493\n",
    "unseen_by_user = unseen.values[unseen['user_id']==user_id, 1]\n",
    "cfu.get_user_profile(model, ratings, jokes, user_id, 3, 10, unseen_by_user)"
   ]
  },
  {
   "cell_type": "code",
   "execution_count": 48,
   "metadata": {},
   "outputs": [
    {
     "name": "stderr",
     "output_type": "stream",
     "text": [
      "/home/brendapalmag/anaconda3/envs/ecommerce_jokes/lib/python3.8/site-packages/sklearn/manifold/_t_sne.py:982: FutureWarning: The PCA initialization in TSNE will change to have the standard deviation of PC1 equal to 1e-4 in 1.2. This will ensure better convergence.\n",
      "  warnings.warn(\n"
     ]
    },
    {
     "data": {
      "image/png": "[encoded data removed]",
      "text/plain": [
       "<Figure size 432x288 with 1 Axes>"
      ]
     },
     "metadata": {
      "needs_background": "light"
     },
     "output_type": "display_data"
    }
   ],
   "source": [
    "# Visualize joke-concept matrix with predicted ratings from selected user\n",
    "joke_embeddings = cfu.generate_joke_embeddings(model, perplexity = 6, random_state = 3)\n",
    "cfu.plot_user_preferences(model, joke_embeddings, user_id,unseen_by_user, n_recommended=3, mask_unseen=False)"
   ]
  }
 ],
 "metadata": {
  "interpreter": {
   "hash": "0fa4841112433a5c590ed7b6f6ce3f794127901ec0a57511be6d2a6ebc3c3baa"
  },
  "kernelspec": {
   "display_name": "Python 3.8.2 64-bit ('ecommerce_jokes': conda)",
   "name": "python3"
  },
  "language_info": {
   "codemirror_mode": {
    "name": "ipython",
    "version": 3
   },
   "file_extension": ".py",
   "mimetype": "text/x-python",
   "name": "python",
   "nbconvert_exporter": "python",
   "pygments_lexer": "ipython3",
   "version": "3.8.2"
  },
  "orig_nbformat": 4
 },
 "nbformat": 4,
 "nbformat_minor": 2
}
