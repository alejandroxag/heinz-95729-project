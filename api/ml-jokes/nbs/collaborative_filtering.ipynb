{
 "cells": [
  {
   "cell_type": "markdown",
   "metadata": {},
   "source": [
    "Authors:\n",
    "    <br>Alejandro Alvarez (axa)\n",
    "    <br>Brenda Palma (bpalmagu)\n",
    "\n",
    "# <center>ML-Jokes: Collaborative Filtering </center>"
   ]
  },
  {
   "cell_type": "markdown",
   "metadata": {},
   "source": [
    "## Setup"
   ]
  },
  {
   "cell_type": "code",
   "execution_count": 1,
   "metadata": {},
   "outputs": [
    {
     "name": "stdout",
     "output_type": "stream",
     "text": [
      "Current directory: /home/brendapalmag/eCommerce/heinz-95729-project/api/ml-jokes\n"
     ]
    }
   ],
   "source": [
    "# Path to ml-jokes folder\n",
    "import os\n",
    "if os.getcwd().split('/')[-2] == 'ml-jokes': os.chdir('..')\n",
    "print(f'Current directory: {os.getcwd()}')\n",
    "assert set(['data', 'mljokes', 'environment.yml', 'nbs']) <= set(os.listdir()), \\\n",
    "    'Wrong path; go to ./heinz-95729-project/api/ml-jokes'"
   ]
  },
  {
   "cell_type": "code",
   "execution_count": 50,
   "metadata": {},
   "outputs": [],
   "source": [
    "import pandas as pd\n",
    "import numpy as np\n",
    "from surprise import SVD\n",
    "from surprise import Dataset, Reader\n",
    "from surprise import accuracy\n",
    "from surprise import dump\n",
    "from surprise.model_selection import cross_validate, train_test_split, GridSearchCV\n",
    "from mljokes.data import read_jokes, read_ratings\n",
    "from mljokes import cf_utils as cfu"
   ]
  },
  {
   "cell_type": "markdown",
   "metadata": {},
   "source": [
    "## Data Prep"
   ]
  },
  {
   "cell_type": "code",
   "execution_count": 24,
   "metadata": {},
   "outputs": [],
   "source": [
    "# Read jokes\n",
    "jokes = read_jokes()"
   ]
  },
  {
   "cell_type": "code",
   "execution_count": 16,
   "metadata": {},
   "outputs": [
    {
     "data": {
      "text/html": [
       "<div>\n",
       "<style scoped>\n",
       "    .dataframe tbody tr th:only-of-type {\n",
       "        vertical-align: middle;\n",
       "    }\n",
       "\n",
       "    .dataframe tbody tr th {\n",
       "        vertical-align: top;\n",
       "    }\n",
       "\n",
       "    .dataframe thead th {\n",
       "        text-align: right;\n",
       "    }\n",
       "</style>\n",
       "<table border=\"1\" class=\"dataframe\">\n",
       "  <thead>\n",
       "    <tr style=\"text-align: right;\">\n",
       "      <th></th>\n",
       "      <th>user_id</th>\n",
       "      <th>joke_id</th>\n",
       "      <th>rating</th>\n",
       "      <th>test_user</th>\n",
       "    </tr>\n",
       "  </thead>\n",
       "  <tbody>\n",
       "    <tr>\n",
       "      <th>0</th>\n",
       "      <td>0</td>\n",
       "      <td>1</td>\n",
       "      <td>99.00</td>\n",
       "      <td>0</td>\n",
       "    </tr>\n",
       "    <tr>\n",
       "      <th>1</th>\n",
       "      <td>0</td>\n",
       "      <td>2</td>\n",
       "      <td>99.00</td>\n",
       "      <td>0</td>\n",
       "    </tr>\n",
       "    <tr>\n",
       "      <th>2</th>\n",
       "      <td>0</td>\n",
       "      <td>3</td>\n",
       "      <td>99.00</td>\n",
       "      <td>0</td>\n",
       "    </tr>\n",
       "    <tr>\n",
       "      <th>3</th>\n",
       "      <td>0</td>\n",
       "      <td>4</td>\n",
       "      <td>99.00</td>\n",
       "      <td>0</td>\n",
       "    </tr>\n",
       "    <tr>\n",
       "      <th>4</th>\n",
       "      <td>0</td>\n",
       "      <td>5</td>\n",
       "      <td>-1.65</td>\n",
       "      <td>0</td>\n",
       "    </tr>\n",
       "  </tbody>\n",
       "</table>\n",
       "</div>"
      ],
      "text/plain": [
       "   user_id joke_id  rating  test_user\n",
       "0        0       1   99.00          0\n",
       "1        0       2   99.00          0\n",
       "2        0       3   99.00          0\n",
       "3        0       4   99.00          0\n",
       "4        0       5   -1.65          0"
      ]
     },
     "execution_count": 16,
     "metadata": {},
     "output_type": "execute_result"
    }
   ],
   "source": [
    "# Read and consolidate jester ratings\n",
    "ratings = read_ratings()\n",
    "ratings.head(3)"
   ]
  },
  {
   "cell_type": "code",
   "execution_count": 17,
   "metadata": {},
   "outputs": [
    {
     "data": {
      "text/html": [
       "<div>\n",
       "<style scoped>\n",
       "    .dataframe tbody tr th:only-of-type {\n",
       "        vertical-align: middle;\n",
       "    }\n",
       "\n",
       "    .dataframe tbody tr th {\n",
       "        vertical-align: top;\n",
       "    }\n",
       "\n",
       "    .dataframe thead th {\n",
       "        text-align: right;\n",
       "    }\n",
       "</style>\n",
       "<table border=\"1\" class=\"dataframe\">\n",
       "  <thead>\n",
       "    <tr style=\"text-align: right;\">\n",
       "      <th></th>\n",
       "      <th>user_id</th>\n",
       "      <th>joke_id</th>\n",
       "      <th>rating</th>\n",
       "      <th>test_user</th>\n",
       "    </tr>\n",
       "  </thead>\n",
       "  <tbody>\n",
       "    <tr>\n",
       "      <th>0</th>\n",
       "      <td>0</td>\n",
       "      <td>5</td>\n",
       "      <td>-1.65</td>\n",
       "      <td>0</td>\n",
       "    </tr>\n",
       "    <tr>\n",
       "      <th>1</th>\n",
       "      <td>0</td>\n",
       "      <td>7</td>\n",
       "      <td>-0.78</td>\n",
       "      <td>0</td>\n",
       "    </tr>\n",
       "    <tr>\n",
       "      <th>2</th>\n",
       "      <td>0</td>\n",
       "      <td>8</td>\n",
       "      <td>6.89</td>\n",
       "      <td>0</td>\n",
       "    </tr>\n",
       "  </tbody>\n",
       "</table>\n",
       "</div>"
      ],
      "text/plain": [
       "   user_id joke_id  rating  test_user\n",
       "0        0       5   -1.65          0\n",
       "1        0       7   -0.78          0\n",
       "2        0       8    6.89          0"
      ]
     },
     "execution_count": 17,
     "metadata": {},
     "output_type": "execute_result"
    }
   ],
   "source": [
    "# Filter put missing rating (99.0)\n",
    "unseen = ratings.loc[ratings['rating']==99]\n",
    "ratings = ratings.loc[ratings['rating']!=99]\n",
    "ratings.reset_index(inplace=True, drop=True)\n",
    "ratings.sort_values(by=['user_id', 'joke_id'], ascending=True, inplace=True, ignore_index=True)\n",
    "ratings.head(3)"
   ]
  },
  {
   "cell_type": "markdown",
   "metadata": {},
   "source": [
    "## SVD Model"
   ]
  },
  {
   "cell_type": "code",
   "execution_count": 5,
   "metadata": {},
   "outputs": [],
   "source": [
    "# Build custom dataset \n",
    "reader = Reader(rating_scale=(ratings.rating.min(), ratings.rating.max()))\n",
    "data = Dataset.load_from_df(ratings[['user_id', 'joke_id', 'rating']], reader)"
   ]
  },
  {
   "cell_type": "code",
   "execution_count": 6,
   "metadata": {},
   "outputs": [
    {
     "name": "stdout",
     "output_type": "stream",
     "text": [
      "RMSE: 4.4251\n"
     ]
    },
    {
     "data": {
      "text/plain": [
       "4.425063786621994"
      ]
     },
     "execution_count": 6,
     "metadata": {},
     "output_type": "execute_result"
    }
   ],
   "source": [
    "trainset, testset = train_test_split(data, test_size=.25)\n",
    "\n",
    "# Train model\n",
    "model = SVD()\n",
    "model.fit(trainset)\n",
    "\n",
    "# Evaluate model based on rmse\n",
    "predictions = model.test(testset)\n",
    "accuracy.rmse(predictions)\n"
   ]
  },
  {
   "cell_type": "code",
   "execution_count": 51,
   "metadata": {},
   "outputs": [],
   "source": [
    "# Save model\n",
    "file_name = './results/cf_model'\n",
    "dump.dump(file_name, algo=model, verbose=0)"
   ]
  },
  {
   "cell_type": "code",
   "execution_count": null,
   "metadata": {},
   "outputs": [],
   "source": [
    "trainset = trainset.build_full_trainset()\n",
    "model = SVD()\n",
    "model.fit(trainset)"
   ]
  },
  {
   "cell_type": "markdown",
   "metadata": {},
   "source": [
    "## Get Recommendations"
   ]
  },
  {
   "cell_type": "code",
   "execution_count": 52,
   "metadata": {},
   "outputs": [],
   "source": [
    "# Load model\n",
    "file_name = './results/cf_model'\n",
    "_, model = dump.load(file_name)"
   ]
  },
  {
   "cell_type": "code",
   "execution_count": 53,
   "metadata": {},
   "outputs": [
    {
     "name": "stdout",
     "output_type": "stream",
     "text": [
      "Recommendations for user 1229\n",
      "------------------------------\n",
      "[76 66 52] [2.60074274 2.20493765 1.93294894]\n",
      "There once was a man and a woman that both got in a terrible car wreck. Both of their vehicles were completely destroyed, buy fortunately, no one was hurt. In thankfulness, the woman said to the man, 'We are both okay, so we should celebrate. I have a bottle of wine in my car, let's open it.' So the woman got the bottleout of the car, and handed it to the man. The man took a really big drink, and handed the woman the bottle. The woman closed the bottle and put it down. The man asked, 'Aren't you going to take a drink?' The woman cleverly replied, 'No, I think I'll just wait for the cops to get here.' \n",
      "\n",
      "A lawyer opened the door of his BMW, when suddenly a car came along and hit the door, ripping it off completely. When the police arrived at the scene, the lawyer was complaining bitterly about the damage to his precious BMW. \"Officer, look what they've done to my Beeeeemer!!!\", he whined. \"You lawyers are so materialistic, you make me sick!!!\" retorted the officer. \"You're so worried about your stupid BMW, that you didn't even notice that your left arm was ripped off!!!\" \"Oh my gaaaad...\", replied the lawyer, finally noticing the bloody left shoulder where his arm once was. \"Where's my Rolex???!!!!\" \n",
      "\n",
      "Q: What do Monica Lewinsky and Bob Dole have in common? A: They were both upset when Bill finished first. \n",
      "\n",
      "Recommendations for user 1231\n",
      "------------------------------\n",
      "[87 40 21] [3.20500178 3.08692115 2.92017211]\n",
      "A man, recently completing a routine physical examination receives a phone call from his doctor. The doctor says, \"I have some good news and some bad news.\" The man says, \"OK, give me the good news first.\" The doctor says, \"The good news is, you have 24 hours to live.\" The man replies, \"Shit! That's the good news? Then what's the bad news?\" The doctor says, \"The bad news is, I forgot to call you yesterday.\" \n",
      "\n",
      "How many Irishmen does it take to change a lightbulb? Two, one to hold the lightbulb and the other to drink until the room spins. \n",
      "\n",
      "What's the difference between a used tire and 365 used condoms? One's a Goodyear, the other's a great year. \n",
      "\n",
      "Recommendations for user 1237\n",
      "------------------------------\n",
      "[76 10 65] [1.56470468 1.19023368 1.15432701]\n",
      "There once was a man and a woman that both got in a terrible car wreck. Both of their vehicles were completely destroyed, buy fortunately, no one was hurt. In thankfulness, the woman said to the man, 'We are both okay, so we should celebrate. I have a bottle of wine in my car, let's open it.' So the woman got the bottleout of the car, and handed it to the man. The man took a really big drink, and handed the woman the bottle. The woman closed the bottle and put it down. The man asked, 'Aren't you going to take a drink?' The woman cleverly replied, 'No, I think I'll just wait for the cops to get here.' \n",
      "\n",
      "Two cannibals are eating a clown, one turns to other and says: \"Does this taste funny to you? \n",
      "\n",
      "Two Rednecks were seated at the end of a bar when a young lady seated a few stools up began to choke on a piece of hamburger. She was turning blue and obviously in serious respiratory distress. One said to the other, \"That gal there is having a bad time!\" The other agreed and said \"Think we should go help?\" \"You bet,\" said the first,and with that, he ran over and said, \"Can you breathe??\" She shook her head no. He said, \"Can you speak??\" She again shook her head no. With that, he pulled up her skirt and licked her on the butt. She was so shocked, she coughed up the obstruction and began to breathe-with great relief. The redneck walked back to his friend and said, \"Funny how that hind lick maneuver always works.\" \n",
      "\n"
     ]
    }
   ],
   "source": [
    "users = ratings.loc[ratings['test_user']==1, 'user_id'].unique()[:3]\n",
    "\n",
    "for u in users:\n",
    "    unseen_by_user = unseen.values[unseen['user_id']==u, 1]\n",
    "    u_jokes, u_ratings = cfu.get_recommendations(model, u, unseen_by_user, 3)\n",
    "    print(\"Recommendations for user\", u)\n",
    "    print(\"-\"*30)\n",
    "    print(u_jokes, u_ratings)\n",
    "    display_jokes(jokes, u_jokes)\n",
    "\n",
    "    "
   ]
  }
 ],
 "metadata": {
  "interpreter": {
   "hash": "0fa4841112433a5c590ed7b6f6ce3f794127901ec0a57511be6d2a6ebc3c3baa"
  },
  "kernelspec": {
   "display_name": "Python 3.8.2 64-bit ('ecommerce_jokes': conda)",
   "name": "python3"
  },
  "language_info": {
   "codemirror_mode": {
    "name": "ipython",
    "version": 3
   },
   "file_extension": ".py",
   "mimetype": "text/x-python",
   "name": "python",
   "nbconvert_exporter": "python",
   "pygments_lexer": "ipython3",
   "version": "3.8.2"
  },
  "orig_nbformat": 4
 },
 "nbformat": 4,
 "nbformat_minor": 2
}
