{
 "cells": [
  {
   "cell_type": "markdown",
   "metadata": {},
   "source": [
    "# Jokes"
   ]
  },
  {
   "cell_type": "code",
   "execution_count": null,
   "metadata": {},
   "outputs": [],
   "source": [
    "# Path to ml-jokes folder\n",
    "import os\n",
    "os.chdir('..')"
   ]
  },
  {
   "cell_type": "code",
   "execution_count": 7,
   "metadata": {},
   "outputs": [],
   "source": [
    "import pandas as pd\n",
    "from bs4 import BeautifulSoup\n",
    "import re\n",
    "from nltk import word_tokenize\n",
    "from nltk.corpus import stopwords, wordnet as wn\n",
    "from nltk.stem.wordnet import WordNetLemmatizer\n",
    "\n",
    "# Run the first time\n",
    "# nltk.download('stopwords')\n",
    "# nltk.download('punkt')\n",
    "# nltk.download('wordnet')\n",
    "\n",
    "stopwd = stopwords.words('english')"
   ]
  },
  {
   "cell_type": "markdown",
   "metadata": {},
   "source": [
    "## Functions"
   ]
  },
  {
   "cell_type": "code",
   "execution_count": 9,
   "metadata": {},
   "outputs": [],
   "source": [
    "def extract_joke(path):\n",
    "    with open(path) as fp:\n",
    "        soup = BeautifulSoup(fp, \"html.parser\")\n",
    "        text = soup.find('table').get_text()\n",
    "        text = re.sub('\\n', ' ', text)\n",
    "        text = re.sub('[\\s]+', ' ', text)\n",
    "        return text.strip()\n",
    "\n",
    "def clean_text(text):\n",
    "    lemmas = []\n",
    "    tokens = word_tokenize(text)\n",
    "    lemmas = [WordNetLemmatizer().lemmatize(token).lower() for token in tokens if token.lower() not in stopwd and re.match('^[\\w\\s]+$', token)]\n",
    "    return ' '.join(lemmas)\n",
    "\n"
   ]
  },
  {
   "cell_type": "markdown",
   "metadata": {},
   "source": [
    "## Read jokes"
   ]
  },
  {
   "cell_type": "code",
   "execution_count": 11,
   "metadata": {},
   "outputs": [],
   "source": [
    "path_jokes = r'./data/jokes'\n",
    "jokes = []\n",
    "jokes_clean = []\n",
    "jokes_len = []\n",
    "\n",
    "\n",
    "for file in os.listdir(path_jokes):\n",
    "    text = extract_joke(path_jokes+'/'+file)\n",
    "    clean = clean_text(text) \n",
    "    jokes.append(text)\n",
    "    jokes_clean.append(clean)\n",
    "    jokes_len.append(len(text.split()))\n",
    "    \n"
   ]
  },
  {
   "cell_type": "code",
   "execution_count": 12,
   "metadata": {},
   "outputs": [
    {
     "data": {
      "text/html": [
       "<div>\n",
       "<style scoped>\n",
       "    .dataframe tbody tr th:only-of-type {\n",
       "        vertical-align: middle;\n",
       "    }\n",
       "\n",
       "    .dataframe tbody tr th {\n",
       "        vertical-align: top;\n",
       "    }\n",
       "\n",
       "    .dataframe thead th {\n",
       "        text-align: right;\n",
       "    }\n",
       "</style>\n",
       "<table border=\"1\" class=\"dataframe\">\n",
       "  <thead>\n",
       "    <tr style=\"text-align: right;\">\n",
       "      <th></th>\n",
       "      <th>text</th>\n",
       "      <th>clean_text</th>\n",
       "      <th>len</th>\n",
       "    </tr>\n",
       "  </thead>\n",
       "  <tbody>\n",
       "    <tr>\n",
       "      <th>0</th>\n",
       "      <td>One Sunday morning William burst into the livi...</td>\n",
       "      <td>one sunday morning william burst living room s...</td>\n",
       "      <td>218</td>\n",
       "    </tr>\n",
       "    <tr>\n",
       "      <th>1</th>\n",
       "      <td>Q: How do you keep a computer programmer in th...</td>\n",
       "      <td>q keep computer programmer shower day long giv...</td>\n",
       "      <td>27</td>\n",
       "    </tr>\n",
       "    <tr>\n",
       "      <th>2</th>\n",
       "      <td>A horse walks into a bar. Bartender says: \"So,...</td>\n",
       "      <td>horse walk bar bartender say long face</td>\n",
       "      <td>13</td>\n",
       "    </tr>\n",
       "    <tr>\n",
       "      <th>3</th>\n",
       "      <td>Q: How many programmers does it take to change...</td>\n",
       "      <td>q many programmer take change lightbulb none h...</td>\n",
       "      <td>17</td>\n",
       "    </tr>\n",
       "    <tr>\n",
       "      <th>4</th>\n",
       "      <td>Just a thought .. Before criticizing someone, ...</td>\n",
       "      <td>thought criticizing someone walk mile shoe cri...</td>\n",
       "      <td>30</td>\n",
       "    </tr>\n",
       "  </tbody>\n",
       "</table>\n",
       "</div>"
      ],
      "text/plain": [
       "                                                text  \\\n",
       "0  One Sunday morning William burst into the livi...   \n",
       "1  Q: How do you keep a computer programmer in th...   \n",
       "2  A horse walks into a bar. Bartender says: \"So,...   \n",
       "3  Q: How many programmers does it take to change...   \n",
       "4  Just a thought .. Before criticizing someone, ...   \n",
       "\n",
       "                                          clean_text  len  \n",
       "0  one sunday morning william burst living room s...  218  \n",
       "1  q keep computer programmer shower day long giv...   27  \n",
       "2             horse walk bar bartender say long face   13  \n",
       "3  q many programmer take change lightbulb none h...   17  \n",
       "4  thought criticizing someone walk mile shoe cri...   30  "
      ]
     },
     "execution_count": 12,
     "metadata": {},
     "output_type": "execute_result"
    }
   ],
   "source": [
    "jokes_df = pd.DataFrame({'text': jokes, 'clean_text': jokes_clean, 'len': jokes_len})\n",
    "jokes_df.head()"
   ]
  },
  {
   "cell_type": "code",
   "execution_count": null,
   "metadata": {},
   "outputs": [],
   "source": [
    "jokes_filename = './data/jokes_preprocessed.csv'\n",
    "jokes_df.to_csv(jokes_filename)"
   ]
  },
  {
   "cell_type": "markdown",
   "metadata": {},
   "source": [
    "## Read ratings"
   ]
  },
  {
   "cell_type": "code",
   "execution_count": 13,
   "metadata": {},
   "outputs": [
    {
     "name": "stdout",
     "output_type": "stream",
     "text": [
      "./data/ratings/jester-data-3.xls\n",
      "./data/ratings/jester-data-2.xls\n",
      "./data/ratings/jester-data-1.xls\n"
     ]
    }
   ],
   "source": [
    "path_ratings = r'./data/ratings'\n",
    "ratings = pd.DataFrame()\n",
    "for file in os.listdir(path_ratings):\n",
    "    filename = path_ratings+'/' + file\n",
    "    print(filename)\n",
    "    temp = pd.read_excel(filename,header=None)\n",
    "    ratings = pd.concat([ratings, temp], ignore_index=True)\n",
    "\n",
    "ratings.rename(columns= {0: 'count_rated'}, inplace=True)\n",
    "\n"
   ]
  }
 ],
 "metadata": {
  "interpreter": {
   "hash": "0fa4841112433a5c590ed7b6f6ce3f794127901ec0a57511be6d2a6ebc3c3baa"
  },
  "kernelspec": {
   "display_name": "Python 3.8.12 64-bit ('ecommerce_jokes': conda)",
   "name": "python3"
  },
  "language_info": {
   "codemirror_mode": {
    "name": "ipython",
    "version": 3
   },
   "file_extension": ".py",
   "mimetype": "text/x-python",
   "name": "python",
   "nbconvert_exporter": "python",
   "pygments_lexer": "ipython3",
   "version": "3.8.2"
  },
  "orig_nbformat": 4
 },
 "nbformat": 4,
 "nbformat_minor": 2
}
