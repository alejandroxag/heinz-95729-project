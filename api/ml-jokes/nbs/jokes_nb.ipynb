{
 "cells": [
  {
   "cell_type": "markdown",
   "metadata": {},
   "source": [
    "# Jokes"
   ]
  },
  {
   "cell_type": "code",
   "execution_count": 1,
   "metadata": {},
   "outputs": [],
   "source": [
    "import pandas as pd\n",
    "import numpy as np\n",
    "import requests\n",
    "from bs4 import BeautifulSoup\n",
    "import re\n",
    "import nltk\n",
    "from nltk.corpus import stopwords\n",
    "from nltk.corpus import wordnet as wn\n",
    "from nltk.stem.wordnet import WordNetLemmatizer\n",
    "from nltk import word_tokenize, pos_tag"
   ]
  },
  {
   "cell_type": "code",
   "execution_count": 2,
   "metadata": {},
   "outputs": [],
   "source": [
    "stopwd = stopwords.words('english')"
   ]
  },
  {
   "cell_type": "markdown",
   "metadata": {},
   "source": [
    "## Functions"
   ]
  },
  {
   "cell_type": "code",
   "execution_count": 43,
   "metadata": {},
   "outputs": [],
   "source": [
    "def extract_joke(path):\n",
    "    with open(path) as fp:\n",
    "        soup = BeautifulSoup(fp, \"html.parser\")\n",
    "        text = soup.find('table').get_text()\n",
    "        text = re.sub('\\n', ' ', text)\n",
    "        text = re.sub('[\\s]+', ' ', text)\n",
    "        return text.strip()\n",
    "\n",
    "def clean_text(text):\n",
    "    lemmas = []\n",
    "    tokens = word_tokenize(text)\n",
    "    lemmas = [WordNetLemmatizer().lemmatize(token).lower() for token in tokens if token.lower() not in stopwd and re.match('^[\\w\\s]+$', token)]\n",
    "    return ' '.join(lemmas)\n",
    "\n"
   ]
  },
  {
   "cell_type": "markdown",
   "metadata": {},
   "source": [
    "## Read jokes"
   ]
  },
  {
   "cell_type": "code",
   "execution_count": 45,
   "metadata": {},
   "outputs": [],
   "source": [
    "path_jokes = r'C:\\Users\\bpalg\\Documents\\MS-Data\\eCommerce\\jokes'\n",
    "jokes = []\n",
    "jokes_clean = []\n",
    "jokes_len = []\n",
    "\n",
    "\n",
    "for file in os.listdir(path_jokes):\n",
    "    text = extract_joke(path_jokes+'\\\\'+file)\n",
    "    clean = clean_text(text) \n",
    "    jokes.append(text)\n",
    "    jokes_clean.append(clean)\n",
    "    jokes_len.append(len(text.split()))\n",
    "    \n"
   ]
  },
  {
   "cell_type": "code",
   "execution_count": 46,
   "metadata": {},
   "outputs": [
    {
     "data": {
      "text/html": [
       "<div>\n",
       "<style scoped>\n",
       "    .dataframe tbody tr th:only-of-type {\n",
       "        vertical-align: middle;\n",
       "    }\n",
       "\n",
       "    .dataframe tbody tr th {\n",
       "        vertical-align: top;\n",
       "    }\n",
       "\n",
       "    .dataframe thead th {\n",
       "        text-align: right;\n",
       "    }\n",
       "</style>\n",
       "<table border=\"1\" class=\"dataframe\">\n",
       "  <thead>\n",
       "    <tr style=\"text-align: right;\">\n",
       "      <th></th>\n",
       "      <th>text</th>\n",
       "      <th>clean_text</th>\n",
       "      <th>len</th>\n",
       "    </tr>\n",
       "  </thead>\n",
       "  <tbody>\n",
       "    <tr>\n",
       "      <th>0</th>\n",
       "      <td>A man visits the doctor. The doctor says \"I ha...</td>\n",
       "      <td>man visit doctor doctor say bad news cancer al...</td>\n",
       "      <td>28</td>\n",
       "    </tr>\n",
       "    <tr>\n",
       "      <th>1</th>\n",
       "      <td>Two cannibals are eating a clown, one turns to...</td>\n",
       "      <td>two cannibal eating clown one turn say taste f...</td>\n",
       "      <td>18</td>\n",
       "    </tr>\n",
       "    <tr>\n",
       "      <th>2</th>\n",
       "      <td>Q: Whats the difference between greeting a Que...</td>\n",
       "      <td>q whats difference greeting queen greeting pre...</td>\n",
       "      <td>29</td>\n",
       "    </tr>\n",
       "    <tr>\n",
       "      <th>3</th>\n",
       "      <td>Q. What do a hurricane, a tornado, and a redne...</td>\n",
       "      <td>q hurricane tornado redneck divorce common som...</td>\n",
       "      <td>22</td>\n",
       "    </tr>\n",
       "    <tr>\n",
       "      <th>4</th>\n",
       "      <td>A guy stood over his tee shot for what seemed ...</td>\n",
       "      <td>guy stood tee shot seemed eternity looking loo...</td>\n",
       "      <td>82</td>\n",
       "    </tr>\n",
       "  </tbody>\n",
       "</table>\n",
       "</div>"
      ],
      "text/plain": [
       "                                                text  \\\n",
       "0  A man visits the doctor. The doctor says \"I ha...   \n",
       "1  Two cannibals are eating a clown, one turns to...   \n",
       "2  Q: Whats the difference between greeting a Que...   \n",
       "3  Q. What do a hurricane, a tornado, and a redne...   \n",
       "4  A guy stood over his tee shot for what seemed ...   \n",
       "\n",
       "                                          clean_text  len  \n",
       "0  man visit doctor doctor say bad news cancer al...   28  \n",
       "1  two cannibal eating clown one turn say taste f...   18  \n",
       "2  q whats difference greeting queen greeting pre...   29  \n",
       "3  q hurricane tornado redneck divorce common som...   22  \n",
       "4  guy stood tee shot seemed eternity looking loo...   82  "
      ]
     },
     "execution_count": 46,
     "metadata": {},
     "output_type": "execute_result"
    }
   ],
   "source": [
    "jokes_df = pd.DataFrame({'text': jokes, 'clean_text': jokes_clean, 'len': jokes_len})\n",
    "jokes_df.head()"
   ]
  },
  {
   "cell_type": "markdown",
   "metadata": {},
   "source": [
    "## Read ratings"
   ]
  },
  {
   "cell_type": "code",
   "execution_count": 80,
   "metadata": {},
   "outputs": [
    {
     "name": "stdout",
     "output_type": "stream",
     "text": [
      "C:\\Users\\bpalg\\Documents\\MS-Data\\eCommerce\\ratings\\jester-data-1.xls\n",
      "C:\\Users\\bpalg\\Documents\\MS-Data\\eCommerce\\ratings\\jester-data-2.xls\n",
      "C:\\Users\\bpalg\\Documents\\MS-Data\\eCommerce\\ratings\\jester-data-3.xls\n"
     ]
    }
   ],
   "source": [
    "path_ratings = r'C:\\Users\\bpalg\\Documents\\MS-Data\\eCommerce\\ratings'\n",
    "ratings = pd.DataFrame()\n",
    "for file in os.listdir(path_ratings):\n",
    "    filename = path_ratings+'\\\\' + file\n",
    "    print(filename)\n",
    "    temp = pd.read_excel(filename,header=None)\n",
    "    ratings = pd.concat([ratings, temp], ignore_index=True)\n",
    "\n",
    "ratings.rename(columns= {0: 'count_rated'}, inplace=True)\n",
    "\n"
   ]
  }
 ],
 "metadata": {
  "interpreter": {
   "hash": "92bced87a4cdf6b59f7c8067af659c14f996d1d06d8b9694ca888ee622f69d69"
  },
  "kernelspec": {
   "display_name": "Python 3.8.3 64-bit ('uda': conda)",
   "name": "python3"
  },
  "language_info": {
   "codemirror_mode": {
    "name": "ipython",
    "version": 3
   },
   "file_extension": ".py",
   "mimetype": "text/x-python",
   "name": "python",
   "nbconvert_exporter": "python",
   "pygments_lexer": "ipython3",
   "version": "3.8.3"
  },
  "orig_nbformat": 4
 },
 "nbformat": 4,
 "nbformat_minor": 2
}
